{
 "cells": [
  {
   "cell_type": "code",
   "execution_count": null,
   "id": "c729d75f",
   "metadata": {},
   "outputs": [],
   "source": [
    "import requests\n",
    "import json\n",
    "import pandas as pd\n",
    "import matplotlib.pyplot as plt\n",
    "from shapely.geometry import Point\n",
    "import geopandas as gpd\n",
    "import folium\n",
    "from folium.plugins import MarkerCluster\n",
    "from folium.plugins import FastMarkerCluster\n",
    "import numpy as np\n",
    "import re"
   ]
  },
  {
   "cell_type": "code",
   "execution_count": null,
   "id": "ae3371e6",
   "metadata": {},
   "outputs": [],
   "source": [
    "with open('WeGo.json') as fi:\n",
    "    credentials = json.load(fi)"
   ]
  },
  {
   "cell_type": "code",
   "execution_count": null,
   "id": "704f3915",
   "metadata": {},
   "outputs": [],
   "source": [
    "credentials\n",
    "Authorization = credentials['Authorization']\n"
   ]
  },
  {
   "cell_type": "code",
   "execution_count": null,
   "id": "2b2260d6",
   "metadata": {},
   "outputs": [],
   "source": [
    "def concat_frames(geo_response, response):\n",
    "    #This function pulls in two API requests, puts one in a geodataframe the other in a dataframe and concats desired columns\n",
    "    geo_df = gpd.GeoDataFrame.from_features(geo_response.json()['features'])\n",
    "    res_df = pd.DataFrame(response.json()['data']['segments'])\n",
    "    full_df = pd.concat([geo_df, res_df[['countForSegment', 'percent20Secs']]], axis = 1)\n",
    "    return full_df"
   ]
  },
  {
   "cell_type": "markdown",
   "id": "195e26ff",
   "metadata": {},
   "source": [
    "# M-F, AM Peak, jan/feb, 25m segments, 20th Percentile\n"
   ]
  },
  {
   "cell_type": "code",
   "execution_count": null,
   "id": "e81dcb3e",
   "metadata": {},
   "outputs": [],
   "source": [
    "URL = 'https://api.goswift.ly/speed-map/nashville/route/55'\n",
    "\n",
    "params = {\n",
    "    'direction': '1',\n",
    "    'startDate': '01-25-2022',\n",
    "    'beginTime' : '06:00',\n",
    "    'daysOfWeek' : '1,2,3,4,5',\n",
    "    'endDate' : '02-24-2022',\n",
    "    'endTime' : '09:00',\n",
    "    'format' : 'geojson',\n",
    "    'resolution': 'hiRes',\n",
    "    'excludeDates': '02-18-2022',\n",
    "}\n",
    "\n",
    "\n",
    "params1 = {\n",
    "    'direction': '1',\n",
    "    'startDate': '01-25-2022',\n",
    "    'beginTime' : '06:00',\n",
    "    'daysOfWeek' : '1,2,3,4,5',\n",
    "    'endDate' : '02-24-2022',\n",
    "    'endTime' : '09:00',\n",
    "    'resolution': 'hiRes',\n",
    "    'excludeDates': '02-18-2022',\n",
    "}\n",
    "\n",
    "headers = {'Authorization': Authorization,\n",
    "          'Content-Type': 'application/json'}\n",
    "\n",
    "m_f_am_peak_janfeb =  concat_frames(requests.get(URL, params = params, headers = headers), requests.get(URL, params = params1, headers = headers))\n",
    "m_f_am_peak_janfeb = m_f_am_peak_janfeb.loc[m_f_am_peak_janfeb['pathLengthMeters'] > 0]\n",
    "m_f_am_peak_janfeb = m_f_am_peak_janfeb.loc[m_f_am_peak_janfeb['countForSegment'] > m_f_am_peak_janfeb['countForSegment'].max()/2]\n",
    "m_f_am_peak_janfeb = m_f_am_peak_janfeb.loc[m_f_am_peak_janfeb['percent20Secs'] >= m_f_am_peak_janfeb.percent20Secs.quantile(q=0.80)]"
   ]
  },
  {
   "cell_type": "code",
   "execution_count": null,
   "id": "ea4889c9",
   "metadata": {
    "scrolled": true
   },
   "outputs": [],
   "source": [
    "m_f_am_peak_janfeb.percent20Secs.quantile(0.25)"
   ]
  },
  {
   "cell_type": "code",
   "execution_count": null,
   "id": "1baad5ef",
   "metadata": {
    "scrolled": true
   },
   "outputs": [],
   "source": [
    "m_f_am_peak_janfeb.sort_values('percent20Secs', ascending = False).head()"
   ]
  },
  {
   "cell_type": "code",
   "execution_count": null,
   "id": "41fbae82",
   "metadata": {},
   "outputs": [],
   "source": [
    "m_f_am_peak_janfeb.value_counts('toStopName')"
   ]
  },
  {
   "cell_type": "code",
   "execution_count": null,
   "id": "ae512b0d",
   "metadata": {},
   "outputs": [],
   "source": [
    "top_5_1 = m_f_am_peak_janfeb.sort_values('percent20Secs', ascending = False).head()\n",
    "top_5_1"
   ]
  },
  {
   "cell_type": "code",
   "execution_count": null,
   "id": "305b75b7",
   "metadata": {},
   "outputs": [],
   "source": [
    "top_5_1[['fromStopName','toStopName']]"
   ]
  },
  {
   "cell_type": "code",
   "execution_count": null,
   "id": "634a1288",
   "metadata": {},
   "outputs": [],
   "source": [
    "m_f_am_peak_janfeb_json = m_f_am_peak_janfeb['geometry'].to_json()\n",
    "#r3feb_gj = r3feb['geometry'].to_json()"
   ]
  },
  {
   "cell_type": "code",
   "execution_count": null,
   "id": "f12cdddc",
   "metadata": {},
   "outputs": [],
   "source": [
    "mapdawg = folium.Map(location = [36.19, -86.7775], zoom_start = 12)\n",
    "folium.GeoJson(m_f_am_peak_janfeb_json).add_to(mapdawg)\n",
    "mapdawg"
   ]
  },
  {
   "cell_type": "markdown",
   "id": "dd8640c4",
   "metadata": {},
   "source": [
    "4 out of 5 are downtown, Thompson Lane Inbound and Murfreesboro/Millwood"
   ]
  },
  {
   "cell_type": "markdown",
   "id": "c100158e",
   "metadata": {},
   "source": [
    "# M-F, am Peak, feb/mar, 25m segments, 20th Percentile"
   ]
  },
  {
   "cell_type": "code",
   "execution_count": null,
   "id": "a970cb42",
   "metadata": {},
   "outputs": [],
   "source": [
    "URL = 'https://api.goswift.ly/speed-map/nashville/route/55'\n",
    "\n",
    "params = {\n",
    "    'direction': '1',\n",
    "    'startDate': '02-25-2022',\n",
    "    'beginTime' : '06:00',\n",
    "    'daysOfWeek' : '1,2,3,4,5',\n",
    "    'endDate' : '03-26-2022',\n",
    "    'endTime' : '09:00',\n",
    "    'format' : 'geojson',\n",
    "    'resolution': 'hiRes',\n",
    "    'excludeDates': '03-14-2022,03-15-2022,03-16-2022,03-17-2022,03-18-2022',\n",
    "    \n",
    "}\n",
    "\n",
    "\n",
    "params1 = {\n",
    "    'direction': '1',\n",
    "    'startDate': '02-25-2022',\n",
    "    'beginTime' : '06:00',\n",
    "    'daysOfWeek' : '1,2,3,4,5',\n",
    "    'endDate' : '03-26-2022',\n",
    "    'endTime' : '09:00',\n",
    "    'resolution': 'hiRes',\n",
    "    'excludeDates': '03-14-2022,03-15-2022,03-16-2022,03-17-2022,03-18-2022',\n",
    "}\n",
    "\n",
    "headers = {'Authorization': Authorization,\n",
    "          'Content-Type': 'application/json'}\n",
    "\n",
    "m_f_am_peak_febmar =  concat_frames(requests.get(URL, params = params, headers = headers), requests.get(URL, params = params1, headers = headers))\n",
    "m_f_am_peak_febmar = m_f_am_peak_febmar.loc[m_f_am_peak_febmar['pathLengthMeters'] > 0]\n",
    "m_f_am_peak_febmar = m_f_am_peak_febmar.loc[m_f_am_peak_febmar['countForSegment'] > m_f_am_peak_febmar['countForSegment'].max()/2]\n",
    "m_f_am_peak_febmar = m_f_am_peak_febmar.loc[m_f_am_peak_febmar['percent20Secs'] >= m_f_am_peak_febmar.percent20Secs.quantile(q=0.8)]"
   ]
  },
  {
   "cell_type": "code",
   "execution_count": null,
   "id": "29f8357c",
   "metadata": {},
   "outputs": [],
   "source": [
    "m_f_am_peak_febmar.percent20Secs.quantile(0.25)"
   ]
  },
  {
   "cell_type": "code",
   "execution_count": null,
   "id": "eecfd179",
   "metadata": {
    "scrolled": true
   },
   "outputs": [],
   "source": [
    "m_f_am_peak_febmar.sort_values('percent20Secs', ascending = False).head()"
   ]
  },
  {
   "cell_type": "code",
   "execution_count": null,
   "id": "91f2a36a",
   "metadata": {},
   "outputs": [],
   "source": [
    "top_5_2 = m_f_am_peak_febmar.sort_values('percent20Secs', ascending = False).head()\n",
    "top_5_2[['fromStopName','toStopName']]"
   ]
  },
  {
   "cell_type": "markdown",
   "id": "957bf994",
   "metadata": {},
   "source": [
    "# M-F, am Peak, mar/apr, 25m segments, 20th Percentile"
   ]
  },
  {
   "cell_type": "code",
   "execution_count": null,
   "id": "ea180021",
   "metadata": {},
   "outputs": [],
   "source": [
    "URL = 'https://api.goswift.ly/speed-map/nashville/route/55'\n",
    "\n",
    "params = {\n",
    "    'direction': '1',\n",
    "    'startDate': '03-27-2022',\n",
    "    'beginTime' : '06:00',\n",
    "    'daysOfWeek' : '1,2,3,4,5',\n",
    "    'endDate' : '04-26-2022',\n",
    "    'endTime' : '09:00',\n",
    "    'format' : 'geojson',\n",
    "    'resolution': 'hiRes',\n",
    "    'excludeDates': '04-14-2022,04-15-2022',\n",
    "    \n",
    "}\n",
    "\n",
    "\n",
    "params1 = {\n",
    "    'direction': '1',\n",
    "    'startDate': '03-27-2022',\n",
    "    'beginTime' : '06:00',\n",
    "    'daysOfWeek' : '1,2,3,4,5',\n",
    "    'endDate' : '04-26-2022',\n",
    "    'endTime' : '09:00',\n",
    "    'resolution': 'hiRes',\n",
    "    'excludeDates': '04-14-2022,04-15-2022',\n",
    "}\n",
    "\n",
    "headers = {'Authorization': Authorization,\n",
    "          'Content-Type': 'application/json'}\n",
    "\n",
    "m_f_am_peak_marapr =  concat_frames(requests.get(URL, params = params, headers = headers), requests.get(URL, params = params1, headers = headers))\n",
    "m_f_am_peak_marapr = m_f_am_peak_marapr.loc[m_f_am_peak_marapr['pathLengthMeters'] > 0]\n",
    "m_f_am_peak_marapr = m_f_am_peak_marapr.loc[m_f_am_peak_marapr['countForSegment'] > m_f_am_peak_marapr['countForSegment'].max()/2]\n",
    "m_f_am_peak_marapr = m_f_am_peak_marapr.loc[m_f_am_peak_marapr['percent20Secs'] >= m_f_am_peak_marapr.percent20Secs.quantile(0.8)]"
   ]
  },
  {
   "cell_type": "code",
   "execution_count": null,
   "id": "e0c19c27",
   "metadata": {},
   "outputs": [],
   "source": [
    "m_f_am_peak_marapr.percent20Secs.quantile(0.25)"
   ]
  },
  {
   "cell_type": "code",
   "execution_count": null,
   "id": "0aa469e3",
   "metadata": {},
   "outputs": [],
   "source": [
    "m_f_am_peak_marapr.sort_values('percent20Secs', ascending = False).head()"
   ]
  },
  {
   "cell_type": "code",
   "execution_count": null,
   "id": "60e60bad",
   "metadata": {},
   "outputs": [],
   "source": [
    "top_5_3 = m_f_am_peak_marapr.sort_values('percent20Secs', ascending = False).head()\n",
    "top_5_3[['fromStopName','toStopName']]"
   ]
  },
  {
   "cell_type": "markdown",
   "id": "47c52d92",
   "metadata": {},
   "source": [
    "# M-F, am Peak, apr/may 25m segments, 20th Percentile"
   ]
  },
  {
   "cell_type": "code",
   "execution_count": null,
   "id": "a8284c5b",
   "metadata": {},
   "outputs": [],
   "source": [
    "URL = 'https://api.goswift.ly/speed-map/nashville/route/55'\n",
    "\n",
    "params = {\n",
    "    'direction': '1',\n",
    "    'startDate': '04-27-2022',\n",
    "    'beginTime' : '06:00',\n",
    "    'daysOfWeek' : '1,2,3,4,5',\n",
    "    'endDate' : '05-25-2022',\n",
    "    'endTime' : '09:00',\n",
    "    'format' : 'geojson',\n",
    "    'resolution': 'hiRes',  \n",
    "}\n",
    "\n",
    "\n",
    "params1 = {\n",
    "    'direction': '1',\n",
    "    'startDate': '04-27-2022',\n",
    "    'beginTime' : '06:00',\n",
    "    'daysOfWeek' : '1,2,3,4,5',\n",
    "    'endDate' : '05-25-2022',\n",
    "    'endTime' : '09:00',\n",
    "    'resolution': 'hiRes',\n",
    "}\n",
    "\n",
    "headers = {'Authorization': Authorization,\n",
    "          'Content-Type': 'application/json'}\n",
    "\n",
    "m_f_am_peak_aprmay =  concat_frames(requests.get(URL, params = params, headers = headers), requests.get(URL, params = params1, headers = headers))\n",
    "m_f_am_peak_aprmay = m_f_am_peak_aprmay.loc[m_f_am_peak_aprmay['pathLengthMeters'] > 0]\n",
    "m_f_am_peak_aprmay = m_f_am_peak_aprmay.loc[m_f_am_peak_aprmay['countForSegment'] > m_f_am_peak_aprmay['countForSegment'].max()/2]\n",
    "m_f_am_peak_aprmay = m_f_am_peak_aprmay.loc[m_f_am_peak_aprmay['percent20Secs'] >= m_f_am_peak_aprmay.percent20Secs.quantile(0.8)]"
   ]
  },
  {
   "cell_type": "code",
   "execution_count": null,
   "id": "fb64aa11",
   "metadata": {},
   "outputs": [],
   "source": [
    "m_f_am_peak_aprmay.percent20Secs.quantile(0.25)"
   ]
  },
  {
   "cell_type": "code",
   "execution_count": null,
   "id": "25e74ce0",
   "metadata": {},
   "outputs": [],
   "source": [
    "m_f_am_peak_aprmay.sort_values('percent20Secs', ascending = False).head()"
   ]
  },
  {
   "cell_type": "code",
   "execution_count": null,
   "id": "0633c1dc",
   "metadata": {},
   "outputs": [],
   "source": [
    "m_f_am_peak_aprmay.plot()"
   ]
  },
  {
   "cell_type": "code",
   "execution_count": null,
   "id": "cbe9b45a",
   "metadata": {},
   "outputs": [],
   "source": [
    "top_5_4 = m_f_am_peak_aprmay.sort_values('percent20Secs', ascending = False).head()\n",
    "top_5_4[['fromStopName','toStopName']]"
   ]
  },
  {
   "cell_type": "code",
   "execution_count": null,
   "id": "aaef6a03",
   "metadata": {},
   "outputs": [],
   "source": [
    "m_f_am_peak_aprmay = m_f_am_peak_aprmay['geometry'].to_json()"
   ]
  },
  {
   "cell_type": "code",
   "execution_count": null,
   "id": "4e81b8e6",
   "metadata": {},
   "outputs": [],
   "source": [
    "mapdawg = folium.Map(location = [36.19, -86.65453], zoom_start = 12)\n",
    "folium.GeoJson(m_f_am_peak_aprmay, style_function = lambda X:style1).add_to(mapdawg)\n",
    "style1= {'color':'blue', 'weight':3}\n",
    "\n",
    "mapdawg.save('../data/route_55.html')\n",
    "mapdawg"
   ]
  },
  {
   "cell_type": "code",
   "execution_count": null,
   "id": "a7710a3e",
   "metadata": {},
   "outputs": [],
   "source": []
  },
  {
   "cell_type": "code",
   "execution_count": null,
   "id": "7188d236",
   "metadata": {},
   "outputs": [],
   "source": [
    "m_f_am_peak_janfeb.to_csv('janfeb_am_peak_in_55.csv')\n",
    "m_f_am_peak_febmar.to_csv('febmar_am_peak_in_55.csv')\n",
    "m_f_am_peak_aprmay.to_csv('aprmay_am_peak_in_55.csv')\n",
    "m_f_am_peak_marapr.to_csv('marapr_am_peak_in_55.csv')"
   ]
  },
  {
   "cell_type": "code",
   "execution_count": null,
   "id": "9728ff6c",
   "metadata": {},
   "outputs": [],
   "source": []
  }
 ],
 "metadata": {
  "kernelspec": {
   "display_name": "Python 3 (ipykernel)",
   "language": "python",
   "name": "python3"
  },
  "language_info": {
   "codemirror_mode": {
    "name": "ipython",
    "version": 3
   },
   "file_extension": ".py",
   "mimetype": "text/x-python",
   "name": "python",
   "nbconvert_exporter": "python",
   "pygments_lexer": "ipython3",
   "version": "3.8.5"
  }
 },
 "nbformat": 4,
 "nbformat_minor": 5
}
