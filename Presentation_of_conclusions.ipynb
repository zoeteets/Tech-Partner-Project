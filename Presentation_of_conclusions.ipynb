{
 "cells": [
  {
   "cell_type": "code",
   "execution_count": null,
   "id": "3763ed75",
   "metadata": {},
   "outputs": [],
   "source": [
    "Project Presentation can be found at:\n",
    "    https://sites.google.com/view/nss-tech-partner-project/introduction"
   ]
  },
  {
   "cell_type": "code",
   "execution_count": null,
   "id": "1a737b15",
   "metadata": {},
   "outputs": [],
   "source": [
    "Website designed by Zoe Teets"
   ]
  },
  {
   "cell_type": "code",
   "execution_count": null,
   "id": "2cb937a2",
   "metadata": {},
   "outputs": [],
   "source": [
    "Analyst Team: \n",
    "    Colin Sandidge\n",
    "    Demetria Khamken\n",
    "    Bruna Farao\n",
    "    Anjana Hassan\n",
    "    Seth Mitchem\n",
    "    Shenouda Makar\n",
    "    Monica Weiss-Sharp\n",
    "    Patrick Lyons\n",
    "    Da Cha\n",
    "    Tony Pitorri\n",
    "    Mylah-Kate Gainey\n",
    "    Mitl Montoya\n",
    "    Lauren Della Russo\n",
    "    Austin Davis\n",
    "    Rodney Coleman\n",
    "    Martin Melgar\n",
    "    Zoe Teets\n",
    "    Rocky Johnson\n",
    "    Colin Anderson\n",
    "    Kelly Harthan\n",
    "    Berhan Neway\n",
    "    Michael Norman\n",
    "    \n",
    "Analyst Team website:\n",
    "    https://nss-full-time-data-analytics-7.github.io/"
   ]
  }
 ],
 "metadata": {
  "kernelspec": {
   "display_name": "Python 3 (ipykernel)",
   "language": "python",
   "name": "python3"
  },
  "language_info": {
   "codemirror_mode": {
    "name": "ipython",
    "version": 3
   },
   "file_extension": ".py",
   "mimetype": "text/x-python",
   "name": "python",
   "nbconvert_exporter": "python",
   "pygments_lexer": "ipython3",
   "version": "3.8.5"
  }
 },
 "nbformat": 4,
 "nbformat_minor": 5
}
